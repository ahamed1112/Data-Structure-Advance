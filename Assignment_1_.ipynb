{
  "nbformat": 4,
  "nbformat_minor": 0,
  "metadata": {
    "colab": {
      "provenance": []
    },
    "kernelspec": {
      "name": "python3",
      "display_name": "Python 3"
    },
    "language_info": {
      "name": "python"
    }
  },
  "cells": [
    {
      "cell_type": "code",
      "execution_count": null,
      "metadata": {
        "id": "Kc6cldP1641-"
      },
      "outputs": [],
      "source": []
    },
    {
      "cell_type": "markdown",
      "source": [
        "#Assignment 1\n"
      ],
      "metadata": {
        "id": "rtpyBV-n6-u3"
      }
    },
    {
      "cell_type": "markdown",
      "source": [
        "1.  Write a code to reverse a string?\n"
      ],
      "metadata": {
        "id": "denJ5Yf-7IJS"
      }
    },
    {
      "cell_type": "code",
      "source": [
        " def reverse_string(s):\n",
        "    return s[::-1]\n",
        ""
      ],
      "metadata": {
        "id": "TevGa8O67Qhh"
      },
      "execution_count": null,
      "outputs": []
    },
    {
      "cell_type": "markdown",
      "source": [
        "2. Write a code to count the number of vowels in a string?"
      ],
      "metadata": {
        "id": "TTnpUiXn7UzW"
      }
    },
    {
      "cell_type": "code",
      "source": [
        "    def count_vowels(s):\n",
        "    return len(re.findall(r'[aeiouAEIOU]', s))"
      ],
      "metadata": {
        "id": "boCw_idP7Y58"
      },
      "execution_count": null,
      "outputs": []
    },
    {
      "cell_type": "markdown",
      "source": [],
      "metadata": {
        "id": "eIjpWjCY75-i"
      }
    },
    {
      "cell_type": "markdown",
      "source": [
        "3. Write a code to check if a given string is a palindrome or not ?"
      ],
      "metadata": {
        "id": "0mOLwz9N7chl"
      }
    },
    {
      "cell_type": "code",
      "source": [
        " def is_palindrome(s):\n",
        "    return s == ''.join(reversed(s))"
      ],
      "metadata": {
        "id": "YhxsAkjU7jFz"
      },
      "execution_count": null,
      "outputs": []
    },
    {
      "cell_type": "markdown",
      "source": [
        "4.  Write a code to check if two given strings are anagrams of each other?"
      ],
      "metadata": {
        "id": "t3gt1sbH7mWo"
      }
    },
    {
      "cell_type": "code",
      "source": [
        "    def are_anagrams(str1, str2):\n",
        "    return Counter(str1) == Counter(str2)"
      ],
      "metadata": {
        "id": "LnHdA1uP7qP7"
      },
      "execution_count": null,
      "outputs": []
    },
    {
      "cell_type": "markdown",
      "source": [
        "5.  Write a code to find all occurrences of a given substring within another string?\n"
      ],
      "metadata": {
        "id": "31QawN-y78sG"
      }
    },
    {
      "cell_type": "code",
      "source": [
        "def find_all_occurrences(text, substring):\n",
        "    return [i for i in range(len(text)) if text.startswith(substring, i)]"
      ],
      "metadata": {
        "id": "n-TahD3s7-E4"
      },
      "execution_count": null,
      "outputs": []
    },
    {
      "cell_type": "markdown",
      "source": [
        "6.  Write a code to perform basic string compression using the counts of repeated characters?\n"
      ],
      "metadata": {
        "id": "3hBv8-qR8CcS"
      }
    },
    {
      "cell_type": "code",
      "source": [
        "def compress_string(s):\n",
        "    if not s:\n",
        "        return \"\"\n",
        "\n",
        "    compressed = {}\n",
        "    result = []\n",
        "\n",
        "    for char in s:\n",
        "        if char in compressed:\n",
        "            compressed[char] += 1\n",
        "        else:\n",
        "            if compressed:\n",
        "                last_char = list(compressed.keys())[-1]\n",
        "                result.append(last_char + str(compressed[last_char]))\n",
        "            compressed = {char: 1}"
      ],
      "metadata": {
        "id": "jVZKrDMf8F0y"
      },
      "execution_count": null,
      "outputs": []
    },
    {
      "cell_type": "markdown",
      "source": [],
      "metadata": {
        "id": "i4HxTOYb8U0p"
      }
    },
    {
      "cell_type": "markdown",
      "source": [
        "7. Write a code to determine if a string has all unique characters\n"
      ],
      "metadata": {
        "id": "smuedbdz8uv0"
      }
    },
    {
      "cell_type": "code",
      "source": [
        "def has_unique_chars(s):\n",
        "    char_count = {}\n",
        "\n",
        "    for char in s:\n",
        "        if char in char_count:\n",
        "            return False\n",
        "        char_count[char] = 1\n",
        "\n",
        "    return True"
      ],
      "metadata": {
        "id": "FkspJkXn80Jp"
      },
      "execution_count": null,
      "outputs": []
    },
    {
      "cell_type": "markdown",
      "source": [
        "8.  Write a code to convert a given string to uppercase or lowercase\n"
      ],
      "metadata": {
        "id": "O8OXHsLt9By1"
      }
    },
    {
      "cell_type": "code",
      "source": [
        "def to_uppercase(s):\n",
        "    lower_to_upper = {chr(i): chr(i - 32) for i in range(ord('a'), ord('z') + 1)}\n",
        "    return ''.join(lower_to_upper.get(char, char) for char in s)\n",
        "\n",
        "def to_lowercase(s):\n",
        "    upper_to_lower = {chr(i): chr(i + 32) for i in range(ord('A'), ord('Z') + 1)}\n",
        "    return ''.join(upper_to_lower.get(char, char) for char in s)\n"
      ],
      "metadata": {
        "id": "BPyr3dAU9GwQ"
      },
      "execution_count": null,
      "outputs": []
    },
    {
      "cell_type": "markdown",
      "source": [
        "9. Write a code to count the number of words in a string\n"
      ],
      "metadata": {
        "id": "9wVlDlTK9gET"
      }
    },
    {
      "cell_type": "code",
      "source": [
        "def count_words(s):\n",
        "    words = s.split()\n",
        "    word_count = {}\n",
        "\n",
        "    for word in words:\n",
        "        word = word.lower()\n",
        "        word_count[word] = word_count.get(word, 0) + 1  # Update count\n",
        "\n",
        "    return word_count"
      ],
      "metadata": {
        "id": "oBLZb13j9jkk"
      },
      "execution_count": null,
      "outputs": []
    },
    {
      "cell_type": "markdown",
      "source": [
        "10. Write a code to concatenate two strings without using the + operator"
      ],
      "metadata": {
        "id": "R4ddLc1B99Vz"
      }
    },
    {
      "cell_type": "code",
      "source": [
        "def concatenate_strings(s1, s2):\n",
        "    concat_dict = {0: s1, 1: s2}\n",
        "    result = ''.join(concat_dict[i] for i in sorted(concat_dict.keys()))\n",
        "    return result"
      ],
      "metadata": {
        "id": "X7allZTC-DP9"
      },
      "execution_count": null,
      "outputs": []
    },
    {
      "cell_type": "code",
      "source": [],
      "metadata": {
        "id": "Y_CTt9QF-XQL"
      },
      "execution_count": null,
      "outputs": []
    },
    {
      "cell_type": "markdown",
      "source": [
        "11. Write a code to remove all occurrences of a specific element from a list\n"
      ],
      "metadata": {
        "id": "tAOtTRn7-Rgb"
      }
    },
    {
      "cell_type": "code",
      "source": [
        "def remove_element(lst, target):\n",
        "    element_dict = {i: val for i, val in enumerate(lst)}\n",
        "    return [value for key, value in element_dict.items() if value != target]"
      ],
      "metadata": {
        "id": "VAWtF-B5-ZHJ"
      },
      "execution_count": null,
      "outputs": []
    },
    {
      "cell_type": "markdown",
      "source": [
        "12.  Implement a code to find the second largest number in a given list of integers\n"
      ],
      "metadata": {
        "id": "UGQkriX0-133"
      }
    },
    {
      "cell_type": "code",
      "source": [
        "def second_largest(nums):\n",
        "    max_dict = {\"first\": float('-inf'), \"second\": float('-inf')}\n",
        "\n",
        "    for num in nums:\n",
        "        if num > max_dict[\"first\"]:\n",
        "            max_dict[\"second\"], max_dict[\"first\"] = max_dict[\"first\"], num\n",
        "        elif max_dict[\"first\"] > num > max_dict[\"second\"]:\n",
        "            max_dict[\"second\"] = num\n",
        "\n",
        "    return max_dict[\"second\"] if max_dict[\"second\"] != float('-inf') else \"No second largest element\"\n"
      ],
      "metadata": {
        "id": "Gf4cnJF7-50L"
      },
      "execution_count": null,
      "outputs": []
    },
    {
      "cell_type": "markdown",
      "source": [
        "13. Create a code to count the occurrences of each element in a list and return a dictionary with elements as\n",
        "keys and their counts as values"
      ],
      "metadata": {
        "id": "O38circb_HiR"
      }
    },
    {
      "cell_type": "code",
      "source": [
        "def count_occurrences(lst):\n",
        "    count_dict = {}  # Initialize an empty dictionary\n",
        "\n",
        "    for item in lst:\n",
        "        count_dict[item] = count_dict.get(item, 0) + 1\n",
        "\n",
        "    return count_dict\n"
      ],
      "metadata": {
        "id": "lWCTGeGb_NHO"
      },
      "execution_count": null,
      "outputs": []
    },
    {
      "cell_type": "markdown",
      "source": [
        "14. Write a code to reverse a list in-place without using any built-in reverse functions"
      ],
      "metadata": {
        "id": "42gkZZAs_h7w"
      }
    },
    {
      "cell_type": "code",
      "source": [
        "def reverse_list(lst):\n",
        "    index_dict = {i: lst[i] for i in range(len(lst))}\n",
        "    n = len(lst)\n",
        "\n",
        "    for i in range(n // 2):\n",
        "        # Swap elements using the dictionary\n",
        "        lst[i], lst[n - 1 - i] = index_dict[n - 1 - i], index_dict[i]\n",
        "\n",
        "    return lst  # In-place modification\n"
      ],
      "metadata": {
        "id": "QUEhzW5Q_nRK"
      },
      "execution_count": null,
      "outputs": []
    },
    {
      "cell_type": "markdown",
      "source": [
        "15. Implement a code to find and remove duplicates from a list while preserving the original order of\n",
        "elements"
      ],
      "metadata": {
        "id": "FPxagL-a_0O9"
      }
    },
    {
      "cell_type": "code",
      "source": [],
      "metadata": {
        "id": "9rPO4A2FADWN"
      },
      "execution_count": null,
      "outputs": []
    },
    {
      "cell_type": "code",
      "source": [
        "def remove_duplicates(lst):\n",
        "    seen = {}\n",
        "    result = []\n",
        "\n",
        "    for item in lst:\n",
        "        if item not in seen:\n",
        "            seen[item] = True\n",
        "            result.append(item)\n",
        "\n",
        "    return result\n"
      ],
      "metadata": {
        "id": "qO6uUnL7AFHC"
      },
      "execution_count": null,
      "outputs": []
    },
    {
      "cell_type": "markdown",
      "source": [
        "16.  Create a code to check if a given list is sorted (either in ascending or descending order) or not\n"
      ],
      "metadata": {
        "id": "nnTbz7cuAbef"
      }
    },
    {
      "cell_type": "code",
      "source": [
        "def is_sorted(lst):\n",
        "    order_dict = {\"ascending\": True, \"descending\": True}\n",
        "    for i in range(1, len(lst)):\n",
        "        if lst[i] < lst[i - 1]:\n",
        "            order_dict[\"ascending\"] = False\n",
        "        if lst[i] > lst[i - 1]:\n",
        "            order_dict[\"descending\"] = False\n",
        "\n",
        "    if order_dict[\"ascending\"]:\n",
        "        return \"List is sorted in ascending order\"\n",
        "    elif order_dict[\"descending\"]:\n",
        "        return \"List is sorted in descending order\"\n",
        "    else:\n",
        "        return \"List is not sorted\""
      ],
      "metadata": {
        "id": "6R9q-3PYAg9i"
      },
      "execution_count": null,
      "outputs": []
    },
    {
      "cell_type": "markdown",
      "source": [
        "17.  Write a code to merge two sorted lists into a single sorted list\n"
      ],
      "metadata": {
        "id": "lSqSi8HrAx9v"
      }
    },
    {
      "cell_type": "code",
      "source": [
        "def merge_sorted_lists(lst1, lst2):\n",
        "    merged_dict = {}\n",
        "    i, j, k = 0, 0, 0\n",
        "\n",
        "    while i < len(lst1) and j < len(lst2):\n",
        "        if lst1[i] < lst2[j]:\n",
        "            merged_dict[k] = lst1[i]\n",
        "            i += 1\n",
        "        else:\n",
        "            merged_dict[k] = lst2[j]\n",
        "            j += 1\n",
        "        k += 1\n",
        "\n",
        "    while i < len(lst1):\n",
        "        merged_dict[k] = lst1[i]\n",
        "        i += 1\n",
        "        k += 1\n",
        "\n",
        "    while j < len(lst2):\n",
        "        merged_dict[k] = lst2[j]\n",
        "        j += 1\n",
        "        k += 1\n",
        "\n",
        "    return list(merged_dict.values())\n"
      ],
      "metadata": {
        "id": "ATtrQyDdA2RE"
      },
      "execution_count": null,
      "outputs": []
    },
    {
      "cell_type": "markdown",
      "source": [
        "18.  Implement a code to find the intersection of two given lists\n"
      ],
      "metadata": {
        "id": "UNABbMIsBM-2"
      }
    },
    {
      "cell_type": "code",
      "source": [
        "def find_intersection(lst1, lst2):\n",
        "    count_dict = {}\n",
        "    intersection = []\n",
        "\n",
        "    for num in lst1:\n",
        "        count_dict[num] = count_dict.get(num, 0) + 1\n",
        "\n",
        "    for num in lst2:\n",
        "        if num in count_dict and count_dict[num] > 0:\n",
        "            intersection.append(num)\n",
        "            count_dict[num] -= 1\n",
        "    return intersection\n",
        "\n"
      ],
      "metadata": {
        "id": "oPmWHNnbBSGH"
      },
      "execution_count": null,
      "outputs": []
    },
    {
      "cell_type": "markdown",
      "source": [
        "19.  Create a code to find the union of two lists without duplicates\n"
      ],
      "metadata": {
        "id": "40qtt5lhBtO8"
      }
    },
    {
      "cell_type": "code",
      "source": [
        "def find_union(lst1, lst2):\n",
        "    unique_dict = {}\n",
        "\n",
        "    for num in lst1 + lst2:\n",
        "        unique_dict[num] = True\n",
        "\n",
        "    return list(unique_dict.keys())\n"
      ],
      "metadata": {
        "id": "q9fGrFJnBxSU"
      },
      "execution_count": null,
      "outputs": []
    },
    {
      "cell_type": "markdown",
      "source": [
        "20.  Write a code to shuffle a given list randomly without using any built-in shuffle functions\n"
      ],
      "metadata": {
        "id": "h29QiT__CA-s"
      }
    },
    {
      "cell_type": "code",
      "source": [
        "import random\n",
        "\n",
        "def shuffle_list(lst):\n",
        "    index_dict = {}\n",
        "    shuffled_list = [None] * len(lst)\n",
        "    available_indices = list(range(len(lst)))\n",
        "    for item in lst:\n",
        "        rand_index = random.choice(available_indices)\n",
        "        index_dict[rand_index] = item\n",
        "        available_indices.remove(rand_index)\n",
        "\n",
        "\n",
        "    for i in index_dict:\n",
        "        shuffled_list[i] = index_dict[i]\n",
        "\n",
        "    return shuffled_list\n"
      ],
      "metadata": {
        "id": "s9Zvv_7OCF2o"
      },
      "execution_count": null,
      "outputs": []
    },
    {
      "cell_type": "markdown",
      "source": [
        "21.  Write a code that takes two tuples as input and returns a new tuple containing elements that are\n",
        "common to both input tuples"
      ],
      "metadata": {
        "id": "HTojaQIRCbQN"
      }
    },
    {
      "cell_type": "code",
      "source": [
        "def common_elements(tuple1, tuple2):\n",
        "    count_dict = {}\n",
        "    common = []\n",
        "\n",
        "    for item in tuple1:\n",
        "        count_dict[item] = True\n",
        "    for item in tuple2:\n",
        "        if item in count_dict:\n",
        "            common.append(item)\n",
        "\n",
        "    return tuple(common)"
      ],
      "metadata": {
        "id": "iXb2bMRJCggR"
      },
      "execution_count": null,
      "outputs": []
    },
    {
      "cell_type": "markdown",
      "source": [
        "22.  Create a code that prompts the user to enter two sets of integers separated by commas. Then, print the\n",
        "intersection of these two sets"
      ],
      "metadata": {
        "id": "onsIjzjQC2J2"
      }
    },
    {
      "cell_type": "code",
      "source": [
        "def find_intersection(set1, set2):\n",
        "    element_dict = {}\n",
        "    intersection = []\n",
        "\n",
        "    for num in set1:\n",
        "        element_dict[num] = True\n",
        "    for num in set2:\n",
        "        if num in element_dict:\n",
        "            intersection.append(num)\n",
        "\n",
        "    return intersection\n"
      ],
      "metadata": {
        "id": "lHLeIPx2C-M1"
      },
      "execution_count": null,
      "outputs": []
    },
    {
      "cell_type": "markdown",
      "source": [
        "23.  Write a code to concatenate two tuples. The function should take two tuples as input and return a new\n",
        "tuple containing elements from both input tuples.\n",
        " PWS"
      ],
      "metadata": {
        "id": "tKjOsVXODWMV"
      }
    },
    {
      "cell_type": "code",
      "source": [
        "def concatenate_tuples(tuple1, tuple2):\n",
        "    tuple_dict = {i: val for i, val in enumerate(tuple1 + tuple2)}\n",
        "    return tuple(tuple_dict.values())\n"
      ],
      "metadata": {
        "id": "j3BZ7pCqDaaR"
      },
      "execution_count": null,
      "outputs": []
    },
    {
      "cell_type": "markdown",
      "source": [
        "24. Develop a code that prompts the user to input two sets of strings. Then, print the elements that are\n",
        "present in the first set but not in the second set"
      ],
      "metadata": {
        "id": "e5q0OExoDzrp"
      }
    },
    {
      "cell_type": "code",
      "source": [
        "def difference_between_sets(set1, set2):\n",
        "    element_dict = {}\n",
        "    difference = []\n",
        "\n",
        "    for item in set2:\n",
        "        element_dict[item] = True\n",
        "\n",
        "    for item in set1:\n",
        "        if item not in element_dict:\n",
        "            difference.append(item)\n",
        "    return difference\n",
        "\n"
      ],
      "metadata": {
        "id": "__vdVfT9D7bv"
      },
      "execution_count": null,
      "outputs": []
    },
    {
      "cell_type": "markdown",
      "source": [
        "25.  Create a code that takes a tuple and two integers as input. The function should return a new tuple\n",
        "containing elements from the original tuple within the specified range of indices"
      ],
      "metadata": {
        "id": "_jqgYIwMETcB"
      }
    },
    {
      "cell_type": "code",
      "source": [
        "def slice_tuple(original_tuple, start, end):\n",
        "    sliced_dict = {}\n",
        "    for i in range(start, min(end + 1, len(original_tuple))):\n",
        "        sliced_dict[i] = original_tuple[i]\n",
        "\n",
        "    return tuple(sliced_dict.values())\n"
      ],
      "metadata": {
        "id": "EnhkjKBIEc8I"
      },
      "execution_count": null,
      "outputs": []
    },
    {
      "cell_type": "markdown",
      "source": [
        "26.  Write a code that prompts the user to input two sets of characters. Then, print the union of these two sets\n"
      ],
      "metadata": {
        "id": "-P-tenpqEp01"
      }
    },
    {
      "cell_type": "code",
      "source": [
        "def union_of_sets(set1, set2):\n",
        "    union_dict = {}\n",
        "\n",
        "    for char in set1 | set2:\n",
        "        union_dict[char] = True\n",
        "\n",
        "    return ''.join(union_dict.keys())\n",
        "\n"
      ],
      "metadata": {
        "id": "fpRJnPd_EwAI"
      },
      "execution_count": null,
      "outputs": []
    },
    {
      "cell_type": "markdown",
      "source": [
        "27.  Develop a code that takes a tuple of integers as input. The function should return the maximum and\n",
        "minimum values from the tuple using tuple unpacking"
      ],
      "metadata": {
        "id": "ZJp-UFECE-Xc"
      }
    },
    {
      "cell_type": "code",
      "source": [
        "def find_min_max(numbers):\n",
        "    min_max_dict = {\"min\": float('inf'), \"max\": float('-inf')}\n",
        "    for num in numbers:\n",
        "        if num < min_max_dict[\"min\"]:\n",
        "            min_max_dict[\"min\"] = num\n",
        "        if num > min_max_dict[\"max\"]:\n",
        "            min_max_dict[\"max\"] = num\n",
        "\n",
        "    return min_max_dict[\"min\"], min_max_dict[\"max\"]\n"
      ],
      "metadata": {
        "id": "ow1MkM5LFCfc"
      },
      "execution_count": null,
      "outputs": []
    },
    {
      "cell_type": "markdown",
      "source": [
        "28.  Create a code that defines two sets of integers. Then, print the union, intersection, and difference of these\n",
        "two sets"
      ],
      "metadata": {
        "id": "JBxLJNDRFR5r"
      }
    },
    {
      "cell_type": "code",
      "source": [
        "def set_operations(set1, set2):\n",
        "    result_dict = {\n",
        "        \"union\": {num: True for num in set1 | set2},\n",
        "        \"intersection\": {num: True for num in set1 & set2},\n",
        "        \"difference\": {num: True for num in set1 - set2}\n",
        "    }\n",
        "\n",
        "    return (\n",
        "        list(result_dict[\"union\"].keys()),\n",
        "        list(result_dict[\"intersection\"].keys()),\n",
        "        list(result_dict[\"difference\"].keys())\n",
        "    )\n",
        "\n"
      ],
      "metadata": {
        "id": "5wSEXW3OFXnU"
      },
      "execution_count": null,
      "outputs": []
    },
    {
      "cell_type": "markdown",
      "source": [
        "29. Write a code that takes a tuple and an element as input. The function should return the count of\n",
        "occurrences of the given element in the tuple"
      ],
      "metadata": {
        "id": "5WZ0S9vCF0OE"
      }
    },
    {
      "cell_type": "code",
      "source": [
        "def count_element_occurrences(tup, element):\n",
        "    count_dict = {}\n",
        "\n",
        "    for item in tup:\n",
        "        count_dict[item] = count_dict.get(item, 0) + 1\n",
        "\n",
        "    return count_dict.get(element, 0)\n"
      ],
      "metadata": {
        "id": "yGxlX0yqF49_"
      },
      "execution_count": null,
      "outputs": []
    },
    {
      "cell_type": "markdown",
      "source": [
        "30. Develop a code that prompts the user to input two sets of strings. Then, print the symmetric difference of these two sets"
      ],
      "metadata": {
        "id": "0dVJb4BBGHLx"
      }
    },
    {
      "cell_type": "code",
      "source": [
        "def symmetric_difference(set1, set2):\n",
        "    sym_diff_dict = {}\n",
        "\n",
        "    for item in set1 - set2:\n",
        "        sym_diff_dict[item] = True\n",
        "\n",
        "    for item in set2 - set1:\n",
        "        sym_diff_dict[item] = True\n",
        "\n",
        "    return list(sym_diff_dict.keys())\n"
      ],
      "metadata": {
        "id": "38554ja6GODd"
      },
      "execution_count": null,
      "outputs": []
    },
    {
      "cell_type": "markdown",
      "source": [
        "31.  Write a code that takes a list of words as input and returns a dictionary where the keys are unique words\n",
        "and the values are the frequencies of those words in the input list"
      ],
      "metadata": {
        "id": "tbwtVob7Gdgt"
      }
    },
    {
      "cell_type": "code",
      "source": [
        "def word_frequencies(words_list):\n",
        "    freq_dict = {}\n",
        "    for word in words_list:\n",
        "        freq_dict[word] = freq_dict.get(word, 0) + 1\n",
        "\n",
        "    return freq_dict\n",
        "\n"
      ],
      "metadata": {
        "id": "DKcEVZvqGkSD"
      },
      "execution_count": null,
      "outputs": []
    },
    {
      "cell_type": "markdown",
      "source": [],
      "metadata": {
        "id": "wVxQOj2fGwDI"
      }
    },
    {
      "cell_type": "markdown",
      "source": [
        "32. Write a code that takes two dictionaries as input and merges them into a single dictionary. If there are\n",
        "common keys, the values should be added together\n"
      ],
      "metadata": {
        "id": "9qCWyhgyGwGv"
      }
    },
    {
      "cell_type": "code",
      "source": [
        "def merge_dictionaries(dict1, dict2):\n",
        "    merged_dict = dict1.copy()\n",
        "    for key, value in dict2.items():\n",
        "        merged_dict[key] = merged_dict.get(key, 0) + value\n",
        "\n",
        "    return merged_dict\n"
      ],
      "metadata": {
        "id": "sSvF44OUG8Bx"
      },
      "execution_count": null,
      "outputs": []
    },
    {
      "cell_type": "markdown",
      "source": [
        "33.  Write a code to access a value in a nested dictionary. The function should take the dictionary and a list of keys as input, and return the corresponding value. If any of the keys do not exist in the dictionary, the function should return None"
      ],
      "metadata": {
        "id": "BzR4yPXWHOq7"
      }
    },
    {
      "cell_type": "code",
      "source": [
        "def get_nested_value(nested_dict, keys_list):\n",
        "    current = nested_dict\n",
        "    for key in keys_list:\n",
        "        if isinstance(current, dict) and key in current:\n",
        "            current = current[key]\n",
        "\n",
        "    return current\n",
        "\n"
      ],
      "metadata": {
        "id": "4C9a8EycHXps"
      },
      "execution_count": null,
      "outputs": []
    },
    {
      "cell_type": "markdown",
      "source": [
        "34.  Write a code that takes a dictionary as input and returns a sorted version of it based on the values. You can choose whether to sort in ascending or descending order"
      ],
      "metadata": {
        "id": "hMo8JFcVHpxK"
      }
    },
    {
      "cell_type": "code",
      "source": [
        "def sort_dict_by_value(input_dict, ascending=True):\n",
        "    sorted_dict = dict(sorted(input_dict.items(), key=lambda item: item[1], reverse=not ascending))\n",
        "    return sorted_dict\n"
      ],
      "metadata": {
        "id": "fICixQEmH1Ps"
      },
      "execution_count": null,
      "outputs": []
    },
    {
      "cell_type": "markdown",
      "source": [
        "35. Write a code that inverts a dictionary, swapping keys and values. Ensure that the inverted dictionary\n",
        "correctly handles cases where multiple keys have the same value by storing the keys as a list in the\n",
        "inverted dictionary"
      ],
      "metadata": {
        "id": "UR9zv4wgIGGj"
      }
    },
    {
      "cell_type": "code",
      "source": [
        "def invert_dictionary(input_dict):\n",
        "    inverted_dict = {}\n",
        "    for key, value in input_dict.items():\n",
        "        if value in inverted_dict:\n",
        "            inverted_dict[value].append(key)\n",
        "        else:\n",
        "            inverted_dict[value] = [key]\n",
        "    return inverted_dict\n",
        "\n"
      ],
      "metadata": {
        "id": "U4JOLkiXIM0m"
      },
      "execution_count": null,
      "outputs": []
    },
    {
      "cell_type": "markdown",
      "source": [],
      "metadata": {
        "id": "wJt3dGo-8Knn"
      }
    }
  ]
}